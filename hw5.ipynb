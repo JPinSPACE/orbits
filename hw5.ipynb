{
 "cells": [
  {
   "cell_type": "code",
   "execution_count": 32,
   "metadata": {
    "collapsed": false
   },
   "outputs": [
    {
     "name": "stdout",
     "output_type": "stream",
     "text": [
      "burn 1:  41.1098064472 m/s\n",
      "burn 2:  238.49115892 m/s\n"
     ]
    }
   ],
   "source": [
    "mu = 398600.4414\n",
    "R_e = 6378.14\n",
    "pe = R_e + 585.0\n",
    "ap = R_e * 12.0\n",
    "inc = 28.5\n",
    "\n",
    "sma = lambda a, p: (a+p)/2.0\n",
    "energy = lambda sma: -mu/(2*sma)\n",
    "velocity = lambda e, r: (2.0*(e + mu/r))**0.5\n",
    "\n",
    "targ_pe = R_e * 1.2\n",
    "targ_ap = R_e * 25\n",
    "\n",
    "#ap = 10000\n",
    "#pe = 7000\n",
    "#targ_pe = 8000\n",
    "\n",
    "mms_fuel = 410.0\n",
    "mms_mass = 950.0\n",
    "\n",
    "# maneuver 1 (burn at apogee to raise perigee)\n",
    "v_1 = velocity(energy(sma(ap, pe)), ap)\n",
    "v_2 = velocity(energy(sma(ap, targ_pe)), ap)\n",
    "\n",
    "print \"burn 1: \", (v_2 - v_1)*1000.0, \"m/s\"\n",
    "\n",
    "# maneuver 2 (burn at perigee to raise apogee)\n",
    "v_3 = velocity(energy(sma(ap, targ_pe)), targ_pe)\n",
    "v_4 = velocity(energy(sma(targ_ap, targ_pe)), targ_pe)\n",
    "\n",
    "\n",
    "print \"burn 2: \", (v_4 - v_3)*1000.0, \"m/s\"\n",
    "\n"
   ]
  },
  {
   "cell_type": "code",
   "execution_count": null,
   "metadata": {
    "collapsed": true
   },
   "outputs": [],
   "source": []
  }
 ],
 "metadata": {
  "kernelspec": {
   "display_name": "Python 2",
   "language": "python",
   "name": "python2"
  },
  "language_info": {
   "codemirror_mode": {
    "name": "ipython",
    "version": 2
   },
   "file_extension": ".py",
   "mimetype": "text/x-python",
   "name": "python",
   "nbconvert_exporter": "python",
   "pygments_lexer": "ipython2",
   "version": "2.7.11"
  }
 },
 "nbformat": 4,
 "nbformat_minor": 0
}
