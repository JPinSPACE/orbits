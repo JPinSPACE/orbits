{
 "cells": [
  {
   "cell_type": "markdown",
   "metadata": {},
   "source": [
    "## MMS Revisited\n",
    "*On the recent MMS mission, the spacecraft were injected by the launch vehicle, into an orbit with the following characteristics (use Re = 6378.14km)*\n",
    "\n",
    "- Perigee altitude - 585km\n",
    "- Apogee radius - 12 Re\n",
    "- Inclination - 28.5 degrees\n",
    "\n",
    "\n",
    "1. Calculate the delta-V needed to raise the perigee to the mission required **_radius_** of 1.2 Re\n",
    "2. Calculate the delta-V needed to then raise the apogee to the mission required **_radius_** of 25 Re\n",
    "3. Given that MMS carries about 410kg of fuel, has a dry mass of 950kg, and an average Isp of 218 seconds, calculate the total delta-V capability of the spacecraft\n",
    "\n",
    "***\n",
    "\n",
    "First, set up our constants and starting parameters."
   ]
  },
  {
   "cell_type": "code",
   "execution_count": 26,
   "metadata": {
    "collapsed": false
   },
   "outputs": [],
   "source": [
    "import math\n",
    "MU = 398600.4414    # gravitational parameter\n",
    "R_E = 6378.14       # radius of the earth (km)\n",
    "G = 9.8             # earth gravity\n",
    "GEO = 42164         # geostationary orbit altitude (km)\n",
    "\n",
    "pe = R_E + 585.0    # periapsis (km)\n",
    "ap = R_E * 12.0     # apoapsis (km)\n",
    "inc = 28.5          # inclination (degrees)\n",
    "\n",
    "targ_pe = R_E * 1.2 # target periapsis (km)\n",
    "targ_ap = R_E * 25  # target apoapsis (km)\n",
    "\n",
    "mms_fuel = 410.0    # mass of fuel onboard MMS (kg)\n",
    "mms_mass = 950.0    # dry mass of MMS spacecraft (kg)\n",
    "mms_isp  = 218.0    # specific impulse of MMS spacecraft"
   ]
  },
  {
   "cell_type": "markdown",
   "metadata": {},
   "source": [
    "Next, let's create some convenience functions so we don't have to keep typing out all the math."
   ]
  },
  {
   "cell_type": "code",
   "execution_count": 27,
   "metadata": {
    "collapsed": true
   },
   "outputs": [],
   "source": [
    "sma           = lambda a, p: (a+p)/2.0\n",
    "energy        = lambda sma: -MU/(2*sma)\n",
    "velocity      = lambda e, r: (2.0*(e + MU/r))**0.5\n",
    "total_delta_v = lambda m_start, m_final, isp: -isp*G*math.log(m_final/m_start)"
   ]
  },
  {
   "cell_type": "markdown",
   "metadata": {},
   "source": [
    "Now we have everything we need to answer the problems. For the first problem we want to raise the initial perigee to 1.2 R<sub>e</sub>. We'll do this burn at the apogee for maximum efficiency."
   ]
  },
  {
   "cell_type": "code",
   "execution_count": 28,
   "metadata": {
    "collapsed": false
   },
   "outputs": [
    {
     "name": "stdout",
     "output_type": "stream",
     "text": [
      "burn 1:  41.1098064472 m/s\n"
     ]
    }
   ],
   "source": [
    "vel_before_burn1 = velocity(energy(sma(ap, pe     )), ap)\n",
    "vel_after_burn1  = velocity(energy(sma(ap, targ_pe)), ap)\n",
    "burn1_delta_v    = vel_after_burn1 - vel_before_burn1\n",
    "print \"burn 1: \", burn1_delta_v*1000.0, \"m/s\""
   ]
  },
  {
   "cell_type": "markdown",
   "metadata": {},
   "source": [
    "Next, we figure out our second burn. When calculating our initial velocity we input our current radius as our target perigee since we have already raised that and are now raising our apogee from that point."
   ]
  },
  {
   "cell_type": "code",
   "execution_count": 29,
   "metadata": {
    "collapsed": false
   },
   "outputs": [
    {
     "name": "stdout",
     "output_type": "stream",
     "text": [
      "burn 2:  238.49115892 m/s\n"
     ]
    }
   ],
   "source": [
    "vel_before_burn2 = velocity(energy(sma(ap,      targ_pe)), targ_pe)\n",
    "vel_after_burn2  = velocity(energy(sma(targ_ap, targ_pe)), targ_pe)\n",
    "burn2_delta_v    = vel_after_burn2 - vel_before_burn2\n",
    "print \"burn 2: \", burn2_delta_v*1000.0, \"m/s\""
   ]
  },
  {
   "cell_type": "markdown",
   "metadata": {},
   "source": [
    "Now let's add them together to figure out how much &Delta;v we used."
   ]
  },
  {
   "cell_type": "code",
   "execution_count": 30,
   "metadata": {
    "collapsed": false
   },
   "outputs": [
    {
     "name": "stdout",
     "output_type": "stream",
     "text": [
      "maneuvers total:  279.600965368 m/s\n"
     ]
    }
   ],
   "source": [
    "maneuver_delta_v = burn1_delta_v + burn2_delta_v\n",
    "print \"maneuvers total: \",  maneuver_delta_v*1000.0, \"m/s\""
   ]
  },
  {
   "cell_type": "markdown",
   "metadata": {},
   "source": [
    "Lastly, let's calculate the total &Delta;v of the spacecraft. Handy for us, we happen to have the specific impulse of the vehicle."
   ]
  },
  {
   "cell_type": "code",
   "execution_count": 31,
   "metadata": {
    "collapsed": false
   },
   "outputs": [
    {
     "name": "stdout",
     "output_type": "stream",
     "text": [
      "total delta_v:  766.493306671 m/s\n"
     ]
    }
   ],
   "source": [
    "print \"total delta_v: \", total_delta_v(mms_mass+mms_fuel, mms_mass, mms_isp), \"m/s\""
   ]
  },
  {
   "cell_type": "markdown",
   "metadata": {},
   "source": [
    "## Inclination Change\n",
    "*Now imagine a geosynchronous orbit with an inclination of **5** degrees. Calculate the delta-V needed to lower the inclination to 0 degrees.*\n",
    "\n",
    "***\n",
    "\n",
    "Delta-V required for an inclination change can be found with: $\\|\\Delta\\vec{v}\\| = 2\\ v\\ sin\\left(\\frac{\\Delta i}{2}\\right)$. So let's make a lambda for that."
   ]
  },
  {
   "cell_type": "code",
   "execution_count": 32,
   "metadata": {
    "collapsed": false
   },
   "outputs": [
    {
     "name": "stdout",
     "output_type": "stream",
     "text": [
      "delta_v required for inclination change:  268.230119198 m/s\n"
     ]
    }
   ],
   "source": [
    "inclination_change = lambda v, di: 2.0 * v *math.sin( ((math.pi/180)*di)/2.0 )\n",
    "\n",
    "inc_change_delta_v = inclination_change(velocity(energy(sma(GEO, GEO)), GEO), 5)\n",
    "print \"delta_v required for inclination change: \", inc_change_delta_v*1000.0, \"m/s\""
   ]
  }
 ],
 "metadata": {
  "kernelspec": {
   "display_name": "Python 2",
   "language": "python",
   "name": "python2"
  },
  "language_info": {
   "codemirror_mode": {
    "name": "ipython",
    "version": 2
   },
   "file_extension": ".py",
   "mimetype": "text/x-python",
   "name": "python",
   "nbconvert_exporter": "python",
   "pygments_lexer": "ipython2",
   "version": "2.7.11"
  }
 },
 "nbformat": 4,
 "nbformat_minor": 0
}
