{
 "cells": [
  {
   "cell_type": "markdown",
   "metadata": {},
   "source": [
    "## Tangential Velocity\n",
    "\n",
    "*In Lecture \\#6 we derived the formula for the tangential velocity of a point on the Earth to be $R\\omega\\ sin\\ \\phi$ where $\\phi$ is the latitude (and $R = R_e = 6378.14\\ km$ and $\\omega = \\omega_e = 15^{\\circ}/hr$).*\n",
    "\n",
    "- *a) Graph the tangential velocity as a function of latitude*\n",
    "- *b) Explain why the velocity at the pole is what it is*\n",
    "- *c) For a geosynchronous orbit inclined at 20 degrees, compare the orbital velocity (as a vector) to the tangential velocity as a vector at a latitude of 20 degrees. Which is moving faster Eastwards, the spacecraft or the ground*\n",
    "\n",
    "---\n",
    "\n",
    "Alright let's get started! First things first, we need a couple of imports, a couple of constants, and a couple of convenience functions."
   ]
  },
  {
   "cell_type": "code",
   "execution_count": 37,
   "metadata": {
    "collapsed": false
   },
   "outputs": [],
   "source": [
    "%matplotlib inline\n",
    "import math\n",
    "import matplotlib as mpl\n",
    "import matplotlib.pyplot as plt\n",
    "import numpy as np\n",
    "\n",
    "# configure matplotlib to look nice\n",
    "mpl.rcParams['font.size'] = 16\n",
    "mpl.rcParams['lines.linewidth'] = 2\n",
    "\n",
    "# constants\n",
    "R_E   = 6378.14     # radius of the earth (km)\n",
    "ROT_E = 15.0/3600.0 # angular velocity of equator of the earth (degree/second)\n",
    "GEO   = 42164.0     # geostationary orbit altitude (km)\n",
    "\n",
    "# convenience functions\n",
    "rad_to_deg = lambda r: float(r) * 180.0/np.pi # radians to degrees\n",
    "deg_to_rad = lambda d: float(d) * np.pi/180.0 # degrees to radians\n",
    "\n",
    "def plot(xlabel, ylabel, *plt_args, **kwargs):\n",
    "    width = kwargs['width'] if 'width' in kwargs else 12\n",
    "    height = kwargs['height'] if 'height' in kwargs else 8\n",
    "    plt.figure(figsize=(width, height))\n",
    "    plt.plot(*plt_args)\n",
    "    plt.xlabel(xlabel, fontsize=20)\n",
    "    plt.ylabel(ylabel, fontsize=20)\n",
    "    plt.show()"
   ]
  },
  {
   "cell_type": "markdown",
   "metadata": {},
   "source": [
    "### a) *Graph the tangential velocity..*\n",
    "Let's just build up an array of velocity values based on latitude. We subtract $\\phi$ from 90 to get the actual latitude."
   ]
  },
  {
   "cell_type": "code",
   "execution_count": 55,
   "metadata": {
    "collapsed": false
   },
   "outputs": [
    {
     "data": {
      "image/png": "[encoded data removed]",
      "text/plain": [
       "<matplotlib.figure.Figure at 0x8968080>"
      ]
     },
     "metadata": {},
     "output_type": "display_data"
    },
    {
     "name": "stdout",
     "output_type": "stream",
     "text": [
      "Velocity at equator: 463.831429805 m/s\n",
      "Velocity at pole:    2.84014837927e-14 m/s\n"
     ]
    }
   ],
   "source": [
    "# TODO: Figure out how to do this using ROT_E\n",
    "# goes to range 91 so we actually get 90 for the last element\n",
    "tangential_velocity_at_latitude = lambda latitude: 2*np.pi*(R_E*1000 * np.cos(deg_to_rad(latitude)))/(3600*24)\n",
    "velocity_by_latitude = [tangential_velocity_at_latitude(phi) for phi in range(0, 91)]\n",
    "plot(r'$\\phi$', r'Tangential velocity (m/s)', velocity_by_latitude, height=6)\n",
    "\n",
    "print \"Velocity at equator:\", velocity_by_latitude[0], \"m/s\"\n",
    "print \"Velocity at pole:   \", velocity_by_latitude[-1], \"m/s\""
   ]
  },
  {
   "cell_type": "markdown",
   "metadata": {},
   "source": [
    "The floating point math gets a little fuzzy but the velocity at the pole is essentially zero."
   ]
  },
  {
   "cell_type": "markdown",
   "metadata": {},
   "source": [
    "### b) *Explain the velocity at the pole..*\n",
    "The velocity is zero at the pole because it is a single point rotating in space. There is no displacement so there can't be any velocity. We are measuring the angular velocity of a vector rotating around the pole, so if the vector *is* the pole, the velocity will be zero."
   ]
  },
  {
   "cell_type": "markdown",
   "metadata": {},
   "source": [
    "### c) *For a geosynchronous orbit..*\n",
    "At the moment when a spacecraft in a geosynchronous orbit inclined at 20 degrees is at 20 degrees in latitude it has zero velocity in the north/south direction. So its entire velocity is the eastward component. Since its orbit is circular, its speed is constant. This is great because we don't even need to bring any orbital equations into the mix. We can simply calculate the velocity necessary to trace out its circular orbit in 24 hours and we'll have the spacecraft's (constant) velocity."
   ]
  },
  {
   "cell_type": "code",
   "execution_count": 39,
   "metadata": {
    "collapsed": false
   },
   "outputs": [
    {
     "name": "stdout",
     "output_type": "stream",
     "text": [
      "3066.25260755 m/s\n"
     ]
    }
   ],
   "source": [
    "#       orbit in meters       sec/day\n",
    "print (GEO*1000 * 2*np.pi) / (24*3600), \"m/s\""
   ]
  },
  {
   "cell_type": "markdown",
   "metadata": {},
   "source": [
    "Next calculate the velocity of a point at 20 degrees latitude as a vector. We already know that the only non-zero component of the vector is the tangential velocity so we can just calculate that part."
   ]
  },
  {
   "cell_type": "code",
   "execution_count": 40,
   "metadata": {
    "collapsed": false
   },
   "outputs": [
    {
     "name": "stdout",
     "output_type": "stream",
     "text": [
      "Tangential velocity at 20 degrees latitude: 1438437.86216 m/s\n",
      "As a vector: [0, 1438437.86216, 0]\n"
     ]
    }
   ],
   "source": [
    "print \"Tangential velocity at 20 degrees latitude:\", tangential_velocity_at_latitude(20), \"m/s\"\n",
    "print \"As a vector: [0, {}, 0]\".format(tangential_velocity_at_latitude(20))"
   ]
  }
 ],
 "metadata": {
  "kernelspec": {
   "display_name": "Python 2",
   "language": "python",
   "name": "python2"
  },
  "language_info": {
   "codemirror_mode": {
    "name": "ipython",
    "version": 2
   },
   "file_extension": ".py",
   "mimetype": "text/x-python",
   "name": "python",
   "nbconvert_exporter": "python",
   "pygments_lexer": "ipython2",
   "version": "2.7.11"
  }
 },
 "nbformat": 4,
 "nbformat_minor": 0
}
